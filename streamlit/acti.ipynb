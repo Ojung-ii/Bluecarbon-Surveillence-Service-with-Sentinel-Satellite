{
 "cells": [
  {
   "cell_type": "code",
   "execution_count": 1,
   "metadata": {},
   "outputs": [
    {
     "data": {
      "text/html": [
       "<p>To authorize access needed by Earth Engine, open the following\n",
       "        URL in a web browser and follow the instructions:</p>\n",
       "        <p><a href=https://code.earthengine.google.com/client-auth?scopes=https%3A//www.googleapis.com/auth/earthengine%20https%3A//www.googleapis.com/auth/devstorage.full_control&request_id=NRUqSBWO1bFbTHq4OcWAKoXcH0TL1Hap4Ve5nLM6Qow&tc=We2Uu3NWMrusxQZxd5hIvWivFtFapuVkh0swj9AlFHM&cc=LpSprnyradnZOgWdxVZ6W1YfIAASWfqxiT__2MVuLRA>https://code.earthengine.google.com/client-auth?scopes=https%3A//www.googleapis.com/auth/earthengine%20https%3A//www.googleapis.com/auth/devstorage.full_control&request_id=NRUqSBWO1bFbTHq4OcWAKoXcH0TL1Hap4Ve5nLM6Qow&tc=We2Uu3NWMrusxQZxd5hIvWivFtFapuVkh0swj9AlFHM&cc=LpSprnyradnZOgWdxVZ6W1YfIAASWfqxiT__2MVuLRA</a></p>\n",
       "        <p>The authorization workflow will generate a code, which you should paste in the box below.</p>\n",
       "        "
      ],
      "text/plain": [
       "<IPython.core.display.HTML object>"
      ]
     },
     "metadata": {},
     "output_type": "display_data"
    },
    {
     "name": "stdout",
     "output_type": "stream",
     "text": [
      "\n",
      "Successfully saved authorization token.\n"
     ]
    }
   ],
   "source": [
    "import ee\n",
    " \n",
    "# Trigger the authentication flow.\n",
    "ee.Authenticate()\n",
    " \n",
    "# Initialize the library.\n",
    "ee.Initialize()"
   ]
  },
  {
   "cell_type": "code",
   "execution_count": null,
   "metadata": {},
   "outputs": [],
   "source": []
  }
 ],
 "metadata": {
  "kernelspec": {
   "display_name": "ee",
   "language": "python",
   "name": "ee"
  },
  "language_info": {
   "codemirror_mode": {
    "name": "ipython",
    "version": 3
   },
   "file_extension": ".py",
   "mimetype": "text/x-python",
   "name": "python",
   "nbconvert_exporter": "python",
   "pygments_lexer": "ipython3",
   "version": "3.9.18"
  },
  "orig_nbformat": 4
 },
 "nbformat": 4,
 "nbformat_minor": 2
}
